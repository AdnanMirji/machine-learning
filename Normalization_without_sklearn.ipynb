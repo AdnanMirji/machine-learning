{
  "nbformat": 4,
  "nbformat_minor": 0,
  "metadata": {
    "colab": {
      "provenance": []
    },
    "kernelspec": {
      "name": "python3",
      "display_name": "Python 3"
    },
    "language_info": {
      "name": "python"
    }
  },
  "cells": [
    {
      "cell_type": "code",
      "execution_count": 18,
      "metadata": {
        "colab": {
          "base_uri": "https://localhost:8080/"
        },
        "id": "l-Gfh7FiPqZi",
        "outputId": "3c00a8c7-8ce3-4e0d-8660-b461f2400572"
      },
      "outputs": [
        {
          "output_type": "stream",
          "name": "stdout",
          "text": [
            "   x   y\n",
            "0  3   6\n",
            "1  4   8\n",
            "2  5   5\n",
            "3  6   9\n",
            "4  7  13\n",
            "5  8  11\n",
            "6  9  15\n",
            "[[3]\n",
            " [4]\n",
            " [5]\n",
            " [6]\n",
            " [7]\n",
            " [8]\n",
            " [9]]\n",
            "[[ 6]\n",
            " [ 8]\n",
            " [ 5]\n",
            " [ 9]\n",
            " [13]\n",
            " [11]\n",
            " [15]]\n",
            "[3]\n",
            "[9]\n",
            "min max scaled data: [[0.        ]\n",
            " [0.16666667]\n",
            " [0.33333333]\n",
            " [0.5       ]\n",
            " [0.66666667]\n",
            " [0.83333333]\n",
            " [1.        ]]\n",
            "[6.]\n",
            "[2.]\n",
            "standardized data: [[-1.5]\n",
            " [-1. ]\n",
            " [-0.5]\n",
            " [ 0. ]\n",
            " [ 0.5]\n",
            " [ 1. ]\n",
            " [ 1.5]]\n"
          ]
        }
      ],
      "source": [
        "import pandas as pd\n",
        "import numpy as np\n",
        "\n",
        "data=pd.read_csv('/content/drive/MyDrive/Task_1/univar.csv')\n",
        "print(data)\n",
        "x=np.array(data[['x']])\n",
        "y=np.array(data[['y']])\n",
        "print(x)\n",
        "print(y)\n",
        "#min-max scaling\n",
        "x_min=min(x)\n",
        "print(x_min)\n",
        "x_max=max(x)\n",
        "print(x_max)\n",
        "x_normalize=(x-x_min)/(x_max-x_min)\n",
        "print(\"min max scaled data:\",x_normalize)\n",
        "#standardization\n",
        "x_mean=np.mean(x,axis=0)\n",
        "x_std=np.std(x,axis=0)\n",
        "print(x_mean)\n",
        "print(x_std)\n",
        "x_standardize=(x-x_mean)/x_std\n",
        "print(\"standardized data:\",x_standardize)"
      ]
    }
  ]
}